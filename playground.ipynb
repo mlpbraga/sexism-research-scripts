{
 "metadata": {
  "language_info": {
   "codemirror_mode": {
    "name": "ipython",
    "version": 3
   },
   "file_extension": ".py",
   "mimetype": "text/x-python",
   "name": "python",
   "nbconvert_exporter": "python",
   "pygments_lexer": "ipython3",
   "version": "3.8.6-final"
  },
  "orig_nbformat": 2,
  "kernelspec": {
   "name": "Python 3.8.6 64-bit",
   "display_name": "Python 3.8.6 64-bit",
   "metadata": {
    "interpreter": {
     "hash": "9e92444a0b73bb8880a1c36d45e330ea9e1c96596588bbab91b44c13ce147de7"
    }
   }
  }
 },
 "nbformat": 4,
 "nbformat_minor": 2,
 "cells": [
  {
   "cell_type": "code",
   "execution_count": 1,
   "metadata": {},
   "outputs": [],
   "source": [
    "file_name='robinho-comments'"
   ]
  },
  {
   "cell_type": "code",
   "execution_count": 25,
   "metadata": {},
   "outputs": [
    {
     "output_type": "execute_result",
     "data": {
      "text/plain": [
       "                                       id  \\\n",
       "0    953ed958-05b1-499d-8487-3123cf646973   \n",
       "1    6611b2ad-e6d0-4c28-98f7-d400662a25c4   \n",
       "2    dabea8ec-e6fc-43a4-8663-c469a30a951b   \n",
       "3    ed6e836a-3108-4b7d-84d4-493d07fa0be3   \n",
       "4    9cfa1759-8fa1-4929-806d-3005ef87cead   \n",
       "..                                    ...   \n",
       "332  83308ba2-2345-48c0-94aa-d3d123bc8a20   \n",
       "333  465ebff9-fc48-462a-878e-62ca09dfa455   \n",
       "334  98835304-c3b2-492b-9f05-1de1c202d7f5   \n",
       "342  2d8add7b-dce7-410d-896d-f2a4ea2030bf   \n",
       "343  de23f51c-8f4b-4b8a-9b20-919f6f4ccfec   \n",
       "\n",
       "                                               content  likes  dislikes  \\\n",
       "0    Robinho: estuprador e bolsonaristaE estamos ve...      1         0   \n",
       "1    PASSARINHO QUE DORME COM MORCEGO ACABA DORMIND...      0         0   \n",
       "2    Eu gostaria que quem defende esse rapaz fosse ...      0         0   \n",
       "3    Coloca uma pena de 50 anos sem direito a nada....      0         0   \n",
       "4    E o presidiário Suzy, que é estuprador e assas...      0         0   \n",
       "..                                                 ...    ...       ...   \n",
       "332          Ué e ela está errada por acaso?... ago...      5         0   \n",
       "333  Calma terra plana. Tem leis a serem seguidas. ...      5         0   \n",
       "334                 Isso é pouco, ele tem de ser preso      2         0   \n",
       "342  E o ROBINHO EXXXTUPRADOR ainda foi A FAVOR do ...      4         0   \n",
       "343  Cuida da vida dela. Não foi ela que queria imp...      4         0   \n",
       "\n",
       "                                              reply_to  \\\n",
       "0                                                  NaN   \n",
       "1                                                  NaN   \n",
       "2                                                  NaN   \n",
       "3                                                  NaN   \n",
       "4                                                  NaN   \n",
       "..                                                 ...   \n",
       "332                                                NaN   \n",
       "333                                                NaN   \n",
       "334  Calma terra plana. Tem leis a serem seguidas. ...   \n",
       "342                                                NaN   \n",
       "343                                                NaN   \n",
       "\n",
       "                                  news_id  \\\n",
       "0    a1f4c69f-7d0f-427f-96d8-6ae04102450a   \n",
       "1    a1f4c69f-7d0f-427f-96d8-6ae04102450a   \n",
       "2    a1f4c69f-7d0f-427f-96d8-6ae04102450a   \n",
       "3    a1f4c69f-7d0f-427f-96d8-6ae04102450a   \n",
       "4    a1f4c69f-7d0f-427f-96d8-6ae04102450a   \n",
       "..                                    ...   \n",
       "332  a1f4c69f-7d0f-427f-96d8-6ae04102450a   \n",
       "333  a1f4c69f-7d0f-427f-96d8-6ae04102450a   \n",
       "334  a1f4c69f-7d0f-427f-96d8-6ae04102450a   \n",
       "342  a1f4c69f-7d0f-427f-96d8-6ae04102450a   \n",
       "343  a1f4c69f-7d0f-427f-96d8-6ae04102450a   \n",
       "\n",
       "                                            news_title  \\\n",
       "0    O assunto 302 caso robinho e violencia contra ...   \n",
       "1    O assunto 302 caso robinho e violencia contra ...   \n",
       "2    O assunto 302 caso robinho e violencia contra ...   \n",
       "3    O assunto 302 caso robinho e violencia contra ...   \n",
       "4    O assunto 302 caso robinho e violencia contra ...   \n",
       "..                                                 ...   \n",
       "332     Damares pede cadeia imediatamente para robinho   \n",
       "333     Damares pede cadeia imediatamente para robinho   \n",
       "334     Damares pede cadeia imediatamente para robinho   \n",
       "342     Damares pede cadeia imediatamente para robinho   \n",
       "343     Damares pede cadeia imediatamente para robinho   \n",
       "\n",
       "                                             news_link  \n",
       "0    https://g1.globo.com/podcast/o-assunto/noticia...  \n",
       "1    https://g1.globo.com/podcast/o-assunto/noticia...  \n",
       "2    https://g1.globo.com/podcast/o-assunto/noticia...  \n",
       "3    https://g1.globo.com/podcast/o-assunto/noticia...  \n",
       "4    https://g1.globo.com/podcast/o-assunto/noticia...  \n",
       "..                                                 ...  \n",
       "332  https://g1.globo.com/politica/noticia/2020/10/...  \n",
       "333  https://g1.globo.com/politica/noticia/2020/10/...  \n",
       "334  https://g1.globo.com/politica/noticia/2020/10/...  \n",
       "342  https://g1.globo.com/politica/noticia/2020/10/...  \n",
       "343  https://g1.globo.com/politica/noticia/2020/10/...  \n",
       "\n",
       "[225 rows x 8 columns]"
      ],
      "text/html": "<div>\n<style scoped>\n    .dataframe tbody tr th:only-of-type {\n        vertical-align: middle;\n    }\n\n    .dataframe tbody tr th {\n        vertical-align: top;\n    }\n\n    .dataframe thead th {\n        text-align: right;\n    }\n</style>\n<table border=\"1\" class=\"dataframe\">\n  <thead>\n    <tr style=\"text-align: right;\">\n      <th></th>\n      <th>id</th>\n      <th>content</th>\n      <th>likes</th>\n      <th>dislikes</th>\n      <th>reply_to</th>\n      <th>news_id</th>\n      <th>news_title</th>\n      <th>news_link</th>\n    </tr>\n  </thead>\n  <tbody>\n    <tr>\n      <th>0</th>\n      <td>953ed958-05b1-499d-8487-3123cf646973</td>\n      <td>Robinho: estuprador e bolsonaristaE estamos ve...</td>\n      <td>1</td>\n      <td>0</td>\n      <td>NaN</td>\n      <td>a1f4c69f-7d0f-427f-96d8-6ae04102450a</td>\n      <td>O assunto 302 caso robinho e violencia contra ...</td>\n      <td>https://g1.globo.com/podcast/o-assunto/noticia...</td>\n    </tr>\n    <tr>\n      <th>1</th>\n      <td>6611b2ad-e6d0-4c28-98f7-d400662a25c4</td>\n      <td>PASSARINHO QUE DORME COM MORCEGO ACABA DORMIND...</td>\n      <td>0</td>\n      <td>0</td>\n      <td>NaN</td>\n      <td>a1f4c69f-7d0f-427f-96d8-6ae04102450a</td>\n      <td>O assunto 302 caso robinho e violencia contra ...</td>\n      <td>https://g1.globo.com/podcast/o-assunto/noticia...</td>\n    </tr>\n    <tr>\n      <th>2</th>\n      <td>dabea8ec-e6fc-43a4-8663-c469a30a951b</td>\n      <td>Eu gostaria que quem defende esse rapaz fosse ...</td>\n      <td>0</td>\n      <td>0</td>\n      <td>NaN</td>\n      <td>a1f4c69f-7d0f-427f-96d8-6ae04102450a</td>\n      <td>O assunto 302 caso robinho e violencia contra ...</td>\n      <td>https://g1.globo.com/podcast/o-assunto/noticia...</td>\n    </tr>\n    <tr>\n      <th>3</th>\n      <td>ed6e836a-3108-4b7d-84d4-493d07fa0be3</td>\n      <td>Coloca uma pena de 50 anos sem direito a nada....</td>\n      <td>0</td>\n      <td>0</td>\n      <td>NaN</td>\n      <td>a1f4c69f-7d0f-427f-96d8-6ae04102450a</td>\n      <td>O assunto 302 caso robinho e violencia contra ...</td>\n      <td>https://g1.globo.com/podcast/o-assunto/noticia...</td>\n    </tr>\n    <tr>\n      <th>4</th>\n      <td>9cfa1759-8fa1-4929-806d-3005ef87cead</td>\n      <td>E o presidiário Suzy, que é estuprador e assas...</td>\n      <td>0</td>\n      <td>0</td>\n      <td>NaN</td>\n      <td>a1f4c69f-7d0f-427f-96d8-6ae04102450a</td>\n      <td>O assunto 302 caso robinho e violencia contra ...</td>\n      <td>https://g1.globo.com/podcast/o-assunto/noticia...</td>\n    </tr>\n    <tr>\n      <th>...</th>\n      <td>...</td>\n      <td>...</td>\n      <td>...</td>\n      <td>...</td>\n      <td>...</td>\n      <td>...</td>\n      <td>...</td>\n      <td>...</td>\n    </tr>\n    <tr>\n      <th>332</th>\n      <td>83308ba2-2345-48c0-94aa-d3d123bc8a20</td>\n      <td>Ué e ela está errada por acaso?... ago...</td>\n      <td>5</td>\n      <td>0</td>\n      <td>NaN</td>\n      <td>a1f4c69f-7d0f-427f-96d8-6ae04102450a</td>\n      <td>Damares pede cadeia imediatamente para robinho</td>\n      <td>https://g1.globo.com/politica/noticia/2020/10/...</td>\n    </tr>\n    <tr>\n      <th>333</th>\n      <td>465ebff9-fc48-462a-878e-62ca09dfa455</td>\n      <td>Calma terra plana. Tem leis a serem seguidas. ...</td>\n      <td>5</td>\n      <td>0</td>\n      <td>NaN</td>\n      <td>a1f4c69f-7d0f-427f-96d8-6ae04102450a</td>\n      <td>Damares pede cadeia imediatamente para robinho</td>\n      <td>https://g1.globo.com/politica/noticia/2020/10/...</td>\n    </tr>\n    <tr>\n      <th>334</th>\n      <td>98835304-c3b2-492b-9f05-1de1c202d7f5</td>\n      <td>Isso é pouco, ele tem de ser preso</td>\n      <td>2</td>\n      <td>0</td>\n      <td>Calma terra plana. Tem leis a serem seguidas. ...</td>\n      <td>a1f4c69f-7d0f-427f-96d8-6ae04102450a</td>\n      <td>Damares pede cadeia imediatamente para robinho</td>\n      <td>https://g1.globo.com/politica/noticia/2020/10/...</td>\n    </tr>\n    <tr>\n      <th>342</th>\n      <td>2d8add7b-dce7-410d-896d-f2a4ea2030bf</td>\n      <td>E o ROBINHO EXXXTUPRADOR ainda foi A FAVOR do ...</td>\n      <td>4</td>\n      <td>0</td>\n      <td>NaN</td>\n      <td>a1f4c69f-7d0f-427f-96d8-6ae04102450a</td>\n      <td>Damares pede cadeia imediatamente para robinho</td>\n      <td>https://g1.globo.com/politica/noticia/2020/10/...</td>\n    </tr>\n    <tr>\n      <th>343</th>\n      <td>de23f51c-8f4b-4b8a-9b20-919f6f4ccfec</td>\n      <td>Cuida da vida dela. Não foi ela que queria imp...</td>\n      <td>4</td>\n      <td>0</td>\n      <td>NaN</td>\n      <td>a1f4c69f-7d0f-427f-96d8-6ae04102450a</td>\n      <td>Damares pede cadeia imediatamente para robinho</td>\n      <td>https://g1.globo.com/politica/noticia/2020/10/...</td>\n    </tr>\n  </tbody>\n</table>\n<p>225 rows × 8 columns</p>\n</div>"
     },
     "metadata": {},
     "execution_count": 25
    }
   ],
   "source": [
    "import numpy as np\n",
    "import pandas as pd\n",
    "import psycopg2\n",
    "import time\n",
    "import datetime\n",
    "import sys\n",
    "from constants import DB_NAME, DB_HOST, DB_PASS, DB_PORT, DB_USER, DB_TIME\n",
    "\n",
    "news = sys.argv[1]\n",
    "news_insert_template = \"\"\"INSERT INTO news(news_id,title,link,deleted) VALUES({news_id},'{title}','{link}',false);\n",
    "\"\"\"\n",
    "commnets_insert_template = \"\"\"INSERT INTO comments(comment_id,content,likes,dislikes,reply_to,news_id,deleted) VALUES({comment_id},'{content}',{likes},{dislikes},'{reply_to}',{news_id},false);\n",
    "\"\"\"\n",
    "query = ''\n",
    "\n",
    "def init_db_connection():\n",
    "    today = datetime.datetime.now()\n",
    "\n",
    "    try:  # connect to postgres\n",
    "        conn = psycopg2.connect(\n",
    "            dbname=DB_NAME,\n",
    "            user=DB_USER,\n",
    "            host=DB_HOST,\n",
    "            port=DB_PORT,\n",
    "            password=DB_PASS,\n",
    "            connect_timeout=DB_TIME\n",
    "        )\n",
    "        tm = time.time()\n",
    "        return conn\n",
    "        print('Connected to database: [%s] @ %d seconds' %\n",
    "            (DB_HOST, time.time() - tm))\n",
    "    except Exception as e:\n",
    "        print('Cannot connect to Postgres [%s]' % DB_HOST)\n",
    "        print(str(e))\n",
    "        exit(1)\n",
    "\n",
    "\n",
    "conn = init_db_connection()\n",
    "cursor = conn.cursor()\n",
    "\n",
    "col_names = ['id',\n",
    "             'content',\n",
    "             'likes',\n",
    "             'dislikes',\n",
    "             'reply_to',\n",
    "             'news_id',\n",
    "             'news_title',\n",
    "             'news_link']\n",
    "data = pd.read_csv('./collected-data/{}.csv'.format(file_name),sep=';',names=col_names).drop_duplicates()\n",
    "data"
   ]
  },
  {
   "cell_type": "code",
   "execution_count": 26,
   "metadata": {},
   "outputs": [
    {
     "output_type": "execute_result",
     "data": {
      "text/plain": [
       "['O assunto 302 caso robinho e violencia contra mulher',\n",
       " 'Damares pede cadeia imediatamente para robinho']"
      ]
     },
     "metadata": {},
     "execution_count": 26
    }
   ],
   "source": [
    "news = data[['news_title','news_link']].drop_duplicates()\n",
    "news_titles = list(news['news_title'].drop_duplicates())\n",
    "news_titles"
   ]
  },
  {
   "cell_type": "code",
   "execution_count": 27,
   "metadata": {},
   "outputs": [],
   "source": [
    "cursor.execute('select max(news_id) from news;')\n",
    "news_id = int(cursor.fetchone()[0])\n",
    "cursor.execute('select max(comment_id) from comments;')\n",
    "comment_id = int(cursor.fetchone()[0])\n",
    "cursor.close()\n",
    "conn.close()\n",
    "i=0\n",
    "  "
   ]
  },
  {
   "cell_type": "code",
   "execution_count": 28,
   "metadata": {
    "tags": []
   },
   "outputs": [],
   "source": [
    "for new in news_titles:\n",
    "    news_id +=1\n",
    "    comments = data[data['news_title']==new]\n",
    "    news_insert = news_insert_template.format(\n",
    "        news_id=news_id,\n",
    "        title=str(news[news['news_title']==new]['news_title'].max()),\n",
    "        link=str(news[news['news_title']==new]['news_link'].max())\n",
    "    )\n",
    "    query += news_insert\n",
    "    news_comment = comments[comments['news_title']==new]\n",
    "    for index, row in news_comment.iterrows():\n",
    "        comment_id+=1\n",
    "        comment_insert = commnets_insert_template.format(\n",
    "            comment_id=comment_id,\n",
    "            content=row['content'],\n",
    "            likes=row['likes'],\n",
    "            dislikes=row['dislikes'],\n",
    "            reply_to=row['reply_to'],\n",
    "            news_id=news_id\n",
    "        )\n",
    "        comment_insert = comment_insert.replace(\"'nan'\", 'NULL')\n",
    "        i+=1\n",
    "        query += comment_insert\n",
    "        #fp.write(comment_insert)\n"
   ]
  },
  {
   "cell_type": "code",
   "execution_count": null,
   "metadata": {},
   "outputs": [],
   "source": []
  }
 ]
}