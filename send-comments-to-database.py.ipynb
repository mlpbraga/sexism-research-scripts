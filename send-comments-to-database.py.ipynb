{
 "cells": [
  {
   "cell_type": "code",
   "execution_count": 80,
   "metadata": {},
   "outputs": [],
   "source": [
    "import numpy as np\n",
    "import pandas as pd\n",
    "import psycopg2\n",
    "import time\n",
    "import datetime\n",
    "import sys\n",
    "from constants import DB_NAME, DB_HOST, DB_PASS, DB_PORT, DB_USER, DB_TIME\n",
    "\n",
    "news = 'mariana-ferrer'"
   ]
  },
  {
   "cell_type": "code",
   "execution_count": 81,
   "metadata": {},
   "outputs": [],
   "source": [
    "news_insert_template = \"\"\"INSERT INTO news(news_id,title,link,deleted) VALUES({news_id},'{title}','{link}',false);\n",
    "\"\"\"\n",
    "commnets_insert_template = \"\"\"INSERT INTO comments(comment_id,content,likes,dislikes,reply_to,news_id,deleted) VALUES({comment_id},'{content}',{likes},{dislikes},'{reply_to}',{news_id},false);\n",
    "\"\"\"\n",
    "query = ''"
   ]
  },
  {
   "cell_type": "code",
   "execution_count": 82,
   "metadata": {},
   "outputs": [],
   "source": [
    "def init_db_connection():\n",
    "    today = datetime.datetime.now()\n",
    "\n",
    "    try:  # connect to postgres\n",
    "        conn = psycopg2.connect(\n",
    "            dbname=DB_NAME,\n",
    "            user=DB_USER,\n",
    "            host=DB_HOST,\n",
    "            port=DB_PORT,\n",
    "            password=DB_PASS,\n",
    "            connect_timeout=DB_TIME\n",
    "        )\n",
    "        tm = time.time()\n",
    "        return conn\n",
    "        print('Connected to database: [%s] @ %d seconds' %\n",
    "            (DB_HOST, time.time() - tm))\n",
    "    except Exception as e:\n",
    "        print('Cannot connect to Postgres [%s]' % DB_HOST)\n",
    "        print(str(e))\n",
    "        exit(1)"
   ]
  },
  {
   "cell_type": "code",
   "execution_count": 83,
   "metadata": {},
   "outputs": [],
   "source": [
    "col_names = ['id',\n",
    "             'content',\n",
    "             'likes',\n",
    "             'dislikes',\n",
    "             'reply_to',\n",
    "             'news_id',\n",
    "             'news_title',\n",
    "             'news_link']\n",
    "data = pd.read_csv('./collected-data/{}-comments.csv'.format(news),sep=';',names=col_names)"
   ]
  },
  {
   "cell_type": "code",
   "execution_count": 84,
   "metadata": {},
   "outputs": [
    {
     "data": {
      "text/html": [
       "<div>\n",
       "<style scoped>\n",
       "    .dataframe tbody tr th:only-of-type {\n",
       "        vertical-align: middle;\n",
       "    }\n",
       "\n",
       "    .dataframe tbody tr th {\n",
       "        vertical-align: top;\n",
       "    }\n",
       "\n",
       "    .dataframe thead th {\n",
       "        text-align: right;\n",
       "    }\n",
       "</style>\n",
       "<table border=\"1\" class=\"dataframe\">\n",
       "  <thead>\n",
       "    <tr style=\"text-align: right;\">\n",
       "      <th></th>\n",
       "      <th>id</th>\n",
       "      <th>content</th>\n",
       "      <th>likes</th>\n",
       "      <th>dislikes</th>\n",
       "      <th>reply_to</th>\n",
       "      <th>news_id</th>\n",
       "      <th>news_title</th>\n",
       "      <th>news_link</th>\n",
       "    </tr>\n",
       "  </thead>\n",
       "  <tbody>\n",
       "    <tr>\n",
       "      <th>0</th>\n",
       "      <td>a1a52079-b54e-4780-a706-b557d662f9ad</td>\n",
       "      <td>sou a favor dela.</td>\n",
       "      <td>1</td>\n",
       "      <td>0</td>\n",
       "      <td>NaN</td>\n",
       "      <td>a1f4c69f-7d0f-427f-96d8-6ae04102450a</td>\n",
       "      <td>Caso mariana ferrer deputadas apresentam proje...</td>\n",
       "      <td>https://g1.globo.com/politica/noticia/2020/11/...</td>\n",
       "    </tr>\n",
       "    <tr>\n",
       "      <th>1</th>\n",
       "      <td>6500830d-b4b8-41b0-8062-dee5b365d21f</td>\n",
       "      <td>Essa garota nada mais é que uma gol-p-is-t-a d...</td>\n",
       "      <td>2</td>\n",
       "      <td>0</td>\n",
       "      <td>NaN</td>\n",
       "      <td>a1f4c69f-7d0f-427f-96d8-6ae04102450a</td>\n",
       "      <td>Caso mariana ferrer deputadas apresentam proje...</td>\n",
       "      <td>https://g1.globo.com/politica/noticia/2020/11/...</td>\n",
       "    </tr>\n",
       "    <tr>\n",
       "      <th>2</th>\n",
       "      <td>8865926f-1ed5-4128-8b32-13e07ffbf2d8</td>\n",
       "      <td>Tudo isso acontecendo porque o LERDO do juiz a...</td>\n",
       "      <td>2</td>\n",
       "      <td>0</td>\n",
       "      <td>NaN</td>\n",
       "      <td>a1f4c69f-7d0f-427f-96d8-6ae04102450a</td>\n",
       "      <td>Caso mariana ferrer deputadas apresentam proje...</td>\n",
       "      <td>https://g1.globo.com/politica/noticia/2020/11/...</td>\n",
       "    </tr>\n",
       "    <tr>\n",
       "      <th>3</th>\n",
       "      <td>31047384-98ac-46c4-9ce6-d16cfb2b2e33</td>\n",
       "      <td>Elas nem assistiram o vídeo na íntegra, e já q...</td>\n",
       "      <td>2</td>\n",
       "      <td>0</td>\n",
       "      <td>NaN</td>\n",
       "      <td>a1f4c69f-7d0f-427f-96d8-6ae04102450a</td>\n",
       "      <td>Caso mariana ferrer deputadas apresentam proje...</td>\n",
       "      <td>https://g1.globo.com/politica/noticia/2020/11/...</td>\n",
       "    </tr>\n",
       "    <tr>\n",
       "      <th>4</th>\n",
       "      <td>b773d2b0-a1c6-4bf2-ad17-3053ddae98e1</td>\n",
       "      <td>Fosse esse um país decente e não precisaríamos...</td>\n",
       "      <td>0</td>\n",
       "      <td>0</td>\n",
       "      <td>NaN</td>\n",
       "      <td>a1f4c69f-7d0f-427f-96d8-6ae04102450a</td>\n",
       "      <td>Caso mariana ferrer deputadas apresentam proje...</td>\n",
       "      <td>https://g1.globo.com/politica/noticia/2020/11/...</td>\n",
       "    </tr>\n",
       "  </tbody>\n",
       "</table>\n",
       "</div>"
      ],
      "text/plain": [
       "                                     id  \\\n",
       "0  a1a52079-b54e-4780-a706-b557d662f9ad   \n",
       "1  6500830d-b4b8-41b0-8062-dee5b365d21f   \n",
       "2  8865926f-1ed5-4128-8b32-13e07ffbf2d8   \n",
       "3  31047384-98ac-46c4-9ce6-d16cfb2b2e33   \n",
       "4  b773d2b0-a1c6-4bf2-ad17-3053ddae98e1   \n",
       "\n",
       "                                             content likes dislikes reply_to  \\\n",
       "0                                  sou a favor dela.     1        0      NaN   \n",
       "1  Essa garota nada mais é que uma gol-p-is-t-a d...     2        0      NaN   \n",
       "2  Tudo isso acontecendo porque o LERDO do juiz a...     2        0      NaN   \n",
       "3  Elas nem assistiram o vídeo na íntegra, e já q...     2        0      NaN   \n",
       "4  Fosse esse um país decente e não precisaríamos...     0        0      NaN   \n",
       "\n",
       "                                news_id  \\\n",
       "0  a1f4c69f-7d0f-427f-96d8-6ae04102450a   \n",
       "1  a1f4c69f-7d0f-427f-96d8-6ae04102450a   \n",
       "2  a1f4c69f-7d0f-427f-96d8-6ae04102450a   \n",
       "3  a1f4c69f-7d0f-427f-96d8-6ae04102450a   \n",
       "4  a1f4c69f-7d0f-427f-96d8-6ae04102450a   \n",
       "\n",
       "                                          news_title  \\\n",
       "0  Caso mariana ferrer deputadas apresentam proje...   \n",
       "1  Caso mariana ferrer deputadas apresentam proje...   \n",
       "2  Caso mariana ferrer deputadas apresentam proje...   \n",
       "3  Caso mariana ferrer deputadas apresentam proje...   \n",
       "4  Caso mariana ferrer deputadas apresentam proje...   \n",
       "\n",
       "                                           news_link  \n",
       "0  https://g1.globo.com/politica/noticia/2020/11/...  \n",
       "1  https://g1.globo.com/politica/noticia/2020/11/...  \n",
       "2  https://g1.globo.com/politica/noticia/2020/11/...  \n",
       "3  https://g1.globo.com/politica/noticia/2020/11/...  \n",
       "4  https://g1.globo.com/politica/noticia/2020/11/...  "
      ]
     },
     "execution_count": 84,
     "metadata": {},
     "output_type": "execute_result"
    }
   ],
   "source": [
    "data.head()"
   ]
  },
  {
   "cell_type": "code",
   "execution_count": null,
   "metadata": {},
   "outputs": [],
   "source": [
    "conn = init_db_connection()\n",
    "cursor = conn.cursor()\n",
    "\n",
    "news = data[['news_title','news_link']].drop_duplicates()\n",
    "news_titles = list(news['news_title'].drop_duplicates())\n",
    "news_titles.remove(np.nan)\n",
    "\n",
    "cursor.execute('select max(news_id) from news;')\n",
    "news_id = int(cursor.fetchone()[0])\n",
    "cursor.execute('select max(comment_id) from comments;')\n",
    "comment_id = int(cursor.fetchone()[0])\n",
    "i=0\n",
    "\n",
    "for new in news_titles:\n",
    "    news_id +=1\n",
    "    comments = data[data['news_title']==new]\n",
    "    news_insert = news_insert_template.format(\n",
    "        news_id=news_id,\n",
    "        title=str(news[news['news_title']==new]['news_title'].max()),\n",
    "        link=str(news[news['news_title']==new]['news_link'].max())\n",
    "    )\n",
    "    cursor.execute(news_insert)\n",
    "    query += news_insert\n",
    "    news_comment = comments[comments['news_title']==new]\n",
    "    for index, row in news_comment.iterrows():\n",
    "        comment_id+=1\n",
    "        comment_insert = commnets_insert_template.format(\n",
    "            comment_id=comment_id,\n",
    "            content=row['content'],\n",
    "            likes=row['likes'],\n",
    "            dislikes=row['dislikes'],\n",
    "            reply_to=row['reply_to'],\n",
    "            news_id=news_id\n",
    "        )\n",
    "        comment_insert = comment_insert.replace(\"'nan'\", 'NULL')\n",
    "        i+=1\n",
    "        query += comment_insert\n",
    "        cursor.execute(comment_insert)\n",
    "cursor.close()\n",
    "conn.commit()\n",
    "conn.close()"
   ]
  },
  {
   "cell_type": "code",
   "execution_count": 40,
   "metadata": {},
   "outputs": [
    {
     "data": {
      "text/plain": [
       "\"INSERT INTO comments(comment_id,content,likes,dislikes,reply_to,news_id,deleted) VALUES(3630,'Cuida da vida dela. Não foi ela que queria impedir o aborto em uma menina de 11 anos? Aff',4,0,NULL,26,false);\\n\""
      ]
     },
     "execution_count": 40,
     "metadata": {},
     "output_type": "execute_result"
    }
   ],
   "source": [
    "comment_insert"
   ]
  },
  {
   "cell_type": "code",
   "execution_count": 41,
   "metadata": {},
   "outputs": [
    {
     "data": {
      "text/plain": [
       "26"
      ]
     },
     "execution_count": 41,
     "metadata": {},
     "output_type": "execute_result"
    }
   ],
   "source": [
    "news_id"
   ]
  },
  {
   "cell_type": "code",
   "execution_count": 91,
   "metadata": {},
   "outputs": [],
   "source": []
  },
  {
   "cell_type": "code",
   "execution_count": 92,
   "metadata": {},
   "outputs": [
    {
     "data": {
      "text/plain": [
       "['Caso mariana ferrer deputadas apresentam projeto para tornar crime a violencia instituciona']"
      ]
     },
     "execution_count": 92,
     "metadata": {},
     "output_type": "execute_result"
    }
   ],
   "source": [
    "news_titles"
   ]
  },
  {
   "cell_type": "code",
   "execution_count": null,
   "metadata": {},
   "outputs": [],
   "source": []
  }
 ],
 "metadata": {
  "kernelspec": {
   "display_name": "Python 3",
   "language": "python",
   "name": "python3"
  },
  "language_info": {
   "codemirror_mode": {
    "name": "ipython",
    "version": 3
   },
   "file_extension": ".py",
   "mimetype": "text/x-python",
   "name": "python",
   "nbconvert_exporter": "python",
   "pygments_lexer": "ipython3",
   "version": "3.6.9"
  }
 },
 "nbformat": 4,
 "nbformat_minor": 4
}
